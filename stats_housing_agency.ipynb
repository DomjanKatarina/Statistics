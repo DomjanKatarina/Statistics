{
  "nbformat": 4,
  "nbformat_minor": 0,
  "metadata": {
    "colab": {
      "provenance": [],
      "authorship_tag": "ABX9TyN3v7UEcKa6/B1/uifpWmSk",
      "include_colab_link": true
    },
    "kernelspec": {
      "name": "python3",
      "display_name": "Python 3"
    },
    "language_info": {
      "name": "python"
    }
  },
  "cells": [
    {
      "cell_type": "markdown",
      "metadata": {
        "id": "view-in-github",
        "colab_type": "text"
      },
      "source": [
        "<a href=\"https://colab.research.google.com/github/DomjanKatarina/Statistics/blob/main/stats_housing_agency.ipynb\" target=\"_parent\"><img src=\"https://colab.research.google.com/assets/colab-badge.svg\" alt=\"Open In Colab\"/></a>"
      ]
    },
    {
      "cell_type": "markdown",
      "source": [
        "# Project Scenario\n",
        "\n",
        "You are a Data Scientist with a housing agency in Boston MA, you have been given access to a previous dataset on housing prices derived from the U.S. Census Service to present insights to higher management. Upper management will like to get some insight into the following.\n",
        "\n",
        "1. Is there a significant difference in the median value of houses bounded by the Charles river or not?\n",
        "\n",
        "2. Is there a difference in median values of houses of each proportion of owner-occupied units built before 1940?\n",
        "\n",
        "3. Can we conclude that there is no relationship between Nitric oxide concentrations and the proportion of non-retail business acres per town?\n",
        "\n",
        "4. What is the impact of an additional weighted distance to the five Boston employment centres on the median value of owner-occupied homes?"
      ],
      "metadata": {
        "id": "Xddd9Oqn3xGm"
      }
    },
    {
      "cell_type": "markdown",
      "source": [
        "**Project Steps**:\n",
        "\n",
        "*Step 1*: We familiarize ourself with the dataset \n",
        "\n",
        "*Step 2*: Generate basic statistics and visualizations for upper management. \n",
        "\n",
        "*Step 3*: Use the appropriate tests to answer the questions provided."
      ],
      "metadata": {
        "id": "V0Kau78d5nhi"
      }
    },
    {
      "cell_type": "markdown",
      "source": [
        "**Meta data** (describes the dataset variables):\n",
        "\n",
        "·      CRIM - per capita crime rate by town\n",
        "\n",
        "·      ZN - proportion of residential land zoned for lots over 25,000 sq.ft.\n",
        "\n",
        "·      INDUS - proportion of non-retail business acres per town.\n",
        "\n",
        "·      CHAS - Charles River dummy variable (1 if tract bounds river; 0 otherwise)\n",
        "\n",
        "·      NOX - nitric oxides concentration (parts per 10 million)\n",
        "\n",
        "·      RM - average number of rooms per dwelling\n",
        "\n",
        "·      AGE - proportion of owner-occupied units built prior to 1940\n",
        "\n",
        "·      DIS - weighted distances to five Boston employment centres\n",
        "\n",
        "·      RAD - index of accessibility to radial highways\n",
        "\n",
        "·      TAX - full-value property-tax rate per $10,000\n",
        "\n",
        "·      PTRATIO - pupil-teacher ratio by town\n",
        "\n",
        "·      LSTAT - % lower status of the population\n",
        "\n",
        "·      MEDV - Median value of owner-occupied homes in $1000's\n",
        "\n",
        "*This data was modified for this problem and the link to the complete dataset can be found in the sklearn.datasets library*"
      ],
      "metadata": {
        "id": "RIGGg3876F3N"
      }
    },
    {
      "cell_type": "code",
      "source": [
        "# All the necessary libraries\n",
        "import pandas as pd\n",
        "import numpy as np\n",
        "import seaborn as sns\n",
        "import scipy.stats\n",
        "import statsmodels.api as sm\n",
        "import matplotlib.pyplot as plt"
      ],
      "metadata": {
        "id": "8aPuBK366mnb"
      },
      "execution_count": null,
      "outputs": []
    },
    {
      "cell_type": "code",
      "execution_count": null,
      "metadata": {
        "id": "MdfdRb_C3oV0"
      },
      "outputs": [],
      "source": [
        "# Import the data\n",
        "boston_url = 'https://cf-courses-data.s3.us.cloud-object-storage.appdomain.cloud/IBMDeveloperSkillsNetwork-ST0151EN-SkillsNetwork/labs/boston_housing.csv'\n",
        "boston_df = pd.read_csv(boston_url, index_col=[0])"
      ]
    },
    {
      "cell_type": "code",
      "source": [
        "boston_df.head(5)"
      ],
      "metadata": {
        "colab": {
          "base_uri": "https://localhost:8080/",
          "height": 206
        },
        "id": "aa6NSq1d6uFt",
        "outputId": "1a339464-bcff-4c17-bd8b-c532e9dd2ab0"
      },
      "execution_count": null,
      "outputs": [
        {
          "output_type": "execute_result",
          "data": {
            "text/plain": [
              "      CRIM    ZN  INDUS  CHAS    NOX     RM   AGE     DIS  RAD    TAX  \\\n",
              "0  0.00632  18.0   2.31   0.0  0.538  6.575  65.2  4.0900  1.0  296.0   \n",
              "1  0.02731   0.0   7.07   0.0  0.469  6.421  78.9  4.9671  2.0  242.0   \n",
              "2  0.02729   0.0   7.07   0.0  0.469  7.185  61.1  4.9671  2.0  242.0   \n",
              "3  0.03237   0.0   2.18   0.0  0.458  6.998  45.8  6.0622  3.0  222.0   \n",
              "4  0.06905   0.0   2.18   0.0  0.458  7.147  54.2  6.0622  3.0  222.0   \n",
              "\n",
              "   PTRATIO  LSTAT  MEDV  \n",
              "0     15.3   4.98  24.0  \n",
              "1     17.8   9.14  21.6  \n",
              "2     17.8   4.03  34.7  \n",
              "3     18.7   2.94  33.4  \n",
              "4     18.7   5.33  36.2  "
            ],
            "text/html": [
              "\n",
              "  <div id=\"df-028d406d-e5d1-4d30-8500-7041cc19ed6a\">\n",
              "    <div class=\"colab-df-container\">\n",
              "      <div>\n",
              "<style scoped>\n",
              "    .dataframe tbody tr th:only-of-type {\n",
              "        vertical-align: middle;\n",
              "    }\n",
              "\n",
              "    .dataframe tbody tr th {\n",
              "        vertical-align: top;\n",
              "    }\n",
              "\n",
              "    .dataframe thead th {\n",
              "        text-align: right;\n",
              "    }\n",
              "</style>\n",
              "<table border=\"1\" class=\"dataframe\">\n",
              "  <thead>\n",
              "    <tr style=\"text-align: right;\">\n",
              "      <th></th>\n",
              "      <th>CRIM</th>\n",
              "      <th>ZN</th>\n",
              "      <th>INDUS</th>\n",
              "      <th>CHAS</th>\n",
              "      <th>NOX</th>\n",
              "      <th>RM</th>\n",
              "      <th>AGE</th>\n",
              "      <th>DIS</th>\n",
              "      <th>RAD</th>\n",
              "      <th>TAX</th>\n",
              "      <th>PTRATIO</th>\n",
              "      <th>LSTAT</th>\n",
              "      <th>MEDV</th>\n",
              "    </tr>\n",
              "  </thead>\n",
              "  <tbody>\n",
              "    <tr>\n",
              "      <th>0</th>\n",
              "      <td>0.00632</td>\n",
              "      <td>18.0</td>\n",
              "      <td>2.31</td>\n",
              "      <td>0.0</td>\n",
              "      <td>0.538</td>\n",
              "      <td>6.575</td>\n",
              "      <td>65.2</td>\n",
              "      <td>4.0900</td>\n",
              "      <td>1.0</td>\n",
              "      <td>296.0</td>\n",
              "      <td>15.3</td>\n",
              "      <td>4.98</td>\n",
              "      <td>24.0</td>\n",
              "    </tr>\n",
              "    <tr>\n",
              "      <th>1</th>\n",
              "      <td>0.02731</td>\n",
              "      <td>0.0</td>\n",
              "      <td>7.07</td>\n",
              "      <td>0.0</td>\n",
              "      <td>0.469</td>\n",
              "      <td>6.421</td>\n",
              "      <td>78.9</td>\n",
              "      <td>4.9671</td>\n",
              "      <td>2.0</td>\n",
              "      <td>242.0</td>\n",
              "      <td>17.8</td>\n",
              "      <td>9.14</td>\n",
              "      <td>21.6</td>\n",
              "    </tr>\n",
              "    <tr>\n",
              "      <th>2</th>\n",
              "      <td>0.02729</td>\n",
              "      <td>0.0</td>\n",
              "      <td>7.07</td>\n",
              "      <td>0.0</td>\n",
              "      <td>0.469</td>\n",
              "      <td>7.185</td>\n",
              "      <td>61.1</td>\n",
              "      <td>4.9671</td>\n",
              "      <td>2.0</td>\n",
              "      <td>242.0</td>\n",
              "      <td>17.8</td>\n",
              "      <td>4.03</td>\n",
              "      <td>34.7</td>\n",
              "    </tr>\n",
              "    <tr>\n",
              "      <th>3</th>\n",
              "      <td>0.03237</td>\n",
              "      <td>0.0</td>\n",
              "      <td>2.18</td>\n",
              "      <td>0.0</td>\n",
              "      <td>0.458</td>\n",
              "      <td>6.998</td>\n",
              "      <td>45.8</td>\n",
              "      <td>6.0622</td>\n",
              "      <td>3.0</td>\n",
              "      <td>222.0</td>\n",
              "      <td>18.7</td>\n",
              "      <td>2.94</td>\n",
              "      <td>33.4</td>\n",
              "    </tr>\n",
              "    <tr>\n",
              "      <th>4</th>\n",
              "      <td>0.06905</td>\n",
              "      <td>0.0</td>\n",
              "      <td>2.18</td>\n",
              "      <td>0.0</td>\n",
              "      <td>0.458</td>\n",
              "      <td>7.147</td>\n",
              "      <td>54.2</td>\n",
              "      <td>6.0622</td>\n",
              "      <td>3.0</td>\n",
              "      <td>222.0</td>\n",
              "      <td>18.7</td>\n",
              "      <td>5.33</td>\n",
              "      <td>36.2</td>\n",
              "    </tr>\n",
              "  </tbody>\n",
              "</table>\n",
              "</div>\n",
              "      <button class=\"colab-df-convert\" onclick=\"convertToInteractive('df-028d406d-e5d1-4d30-8500-7041cc19ed6a')\"\n",
              "              title=\"Convert this dataframe to an interactive table.\"\n",
              "              style=\"display:none;\">\n",
              "        \n",
              "  <svg xmlns=\"http://www.w3.org/2000/svg\" height=\"24px\"viewBox=\"0 0 24 24\"\n",
              "       width=\"24px\">\n",
              "    <path d=\"M0 0h24v24H0V0z\" fill=\"none\"/>\n",
              "    <path d=\"M18.56 5.44l.94 2.06.94-2.06 2.06-.94-2.06-.94-.94-2.06-.94 2.06-2.06.94zm-11 1L8.5 8.5l.94-2.06 2.06-.94-2.06-.94L8.5 2.5l-.94 2.06-2.06.94zm10 10l.94 2.06.94-2.06 2.06-.94-2.06-.94-.94-2.06-.94 2.06-2.06.94z\"/><path d=\"M17.41 7.96l-1.37-1.37c-.4-.4-.92-.59-1.43-.59-.52 0-1.04.2-1.43.59L10.3 9.45l-7.72 7.72c-.78.78-.78 2.05 0 2.83L4 21.41c.39.39.9.59 1.41.59.51 0 1.02-.2 1.41-.59l7.78-7.78 2.81-2.81c.8-.78.8-2.07 0-2.86zM5.41 20L4 18.59l7.72-7.72 1.47 1.35L5.41 20z\"/>\n",
              "  </svg>\n",
              "      </button>\n",
              "      \n",
              "  <style>\n",
              "    .colab-df-container {\n",
              "      display:flex;\n",
              "      flex-wrap:wrap;\n",
              "      gap: 12px;\n",
              "    }\n",
              "\n",
              "    .colab-df-convert {\n",
              "      background-color: #E8F0FE;\n",
              "      border: none;\n",
              "      border-radius: 50%;\n",
              "      cursor: pointer;\n",
              "      display: none;\n",
              "      fill: #1967D2;\n",
              "      height: 32px;\n",
              "      padding: 0 0 0 0;\n",
              "      width: 32px;\n",
              "    }\n",
              "\n",
              "    .colab-df-convert:hover {\n",
              "      background-color: #E2EBFA;\n",
              "      box-shadow: 0px 1px 2px rgba(60, 64, 67, 0.3), 0px 1px 3px 1px rgba(60, 64, 67, 0.15);\n",
              "      fill: #174EA6;\n",
              "    }\n",
              "\n",
              "    [theme=dark] .colab-df-convert {\n",
              "      background-color: #3B4455;\n",
              "      fill: #D2E3FC;\n",
              "    }\n",
              "\n",
              "    [theme=dark] .colab-df-convert:hover {\n",
              "      background-color: #434B5C;\n",
              "      box-shadow: 0px 1px 3px 1px rgba(0, 0, 0, 0.15);\n",
              "      filter: drop-shadow(0px 1px 2px rgba(0, 0, 0, 0.3));\n",
              "      fill: #FFFFFF;\n",
              "    }\n",
              "  </style>\n",
              "\n",
              "      <script>\n",
              "        const buttonEl =\n",
              "          document.querySelector('#df-028d406d-e5d1-4d30-8500-7041cc19ed6a button.colab-df-convert');\n",
              "        buttonEl.style.display =\n",
              "          google.colab.kernel.accessAllowed ? 'block' : 'none';\n",
              "\n",
              "        async function convertToInteractive(key) {\n",
              "          const element = document.querySelector('#df-028d406d-e5d1-4d30-8500-7041cc19ed6a');\n",
              "          const dataTable =\n",
              "            await google.colab.kernel.invokeFunction('convertToInteractive',\n",
              "                                                     [key], {});\n",
              "          if (!dataTable) return;\n",
              "\n",
              "          const docLinkHtml = 'Like what you see? Visit the ' +\n",
              "            '<a target=\"_blank\" href=https://colab.research.google.com/notebooks/data_table.ipynb>data table notebook</a>'\n",
              "            + ' to learn more about interactive tables.';\n",
              "          element.innerHTML = '';\n",
              "          dataTable['output_type'] = 'display_data';\n",
              "          await google.colab.output.renderOutput(dataTable, element);\n",
              "          const docLink = document.createElement('div');\n",
              "          docLink.innerHTML = docLinkHtml;\n",
              "          element.appendChild(docLink);\n",
              "        }\n",
              "      </script>\n",
              "    </div>\n",
              "  </div>\n",
              "  "
            ]
          },
          "metadata": {},
          "execution_count": 37
        }
      ]
    },
    {
      "cell_type": "markdown",
      "source": [
        "## *Question 1*: Is there a significant difference in the median value of houses bounded by the Charles river or not?\n",
        "\n",
        "The solution: \n",
        "1. Compare the two groups (houses bounded by the Charles river and houses not bounded by the Charles river) observing the median values of owner-occupied homes, using *box plot visualization*. Visualizing how many houses are actually bounded by the Charles river using *bar plot*.\n",
        "2. Perform a *t-test of independent samples* comparing medians of the two groups, where the null hypothesis is *H0: mean_1 = mean_2* and the alternative hypothesis is *Ha: mean_1 != mean_2*. The test of equality of variances should be performed first."
      ],
      "metadata": {
        "id": "hMb0ehQM7r6h"
      }
    },
    {
      "cell_type": "code",
      "source": [
        "# STEP 1.1: Box plot visualization \n",
        "sns.boxplot(x='CHAS', y='MEDV', data=boston_df).set(title='Box plots of the houses bonded by the Charles river or no')"
      ],
      "metadata": {
        "colab": {
          "base_uri": "https://localhost:8080/",
          "height": 312
        },
        "id": "m0tu6QWD7A0K",
        "outputId": "d045126f-ac91-4580-cb09-b9eae66b3474"
      },
      "execution_count": null,
      "outputs": [
        {
          "output_type": "execute_result",
          "data": {
            "text/plain": [
              "[Text(0.5, 1.0, 'Box plots of the houses bonded by the Charles river or no')]"
            ]
          },
          "metadata": {},
          "execution_count": 40
        },
        {
          "output_type": "display_data",
          "data": {
            "text/plain": [
              "<Figure size 432x288 with 1 Axes>"
            ],
            "image/png": "[encoded data removed]"
          },
          "metadata": {
            "needs_background": "light"
          }
        }
      ]
    },
    {
      "cell_type": "code",
      "source": [
        "# STEP 1.2.: Bar plot visualization\n",
        "sns.catplot(x='CHAS', kind='count', data=boston_df).set(title='Number of houses not bounded and bounded by the Charles river')"
      ],
      "metadata": {
        "colab": {
          "base_uri": "https://localhost:8080/",
          "height": 402
        },
        "id": "HppR2OtQIeJC",
        "outputId": "8eb97a9d-f030-4620-edb8-2da091b96a6f"
      },
      "execution_count": null,
      "outputs": [
        {
          "output_type": "execute_result",
          "data": {
            "text/plain": [
              "<seaborn.axisgrid.FacetGrid at 0x7ff1342ca310>"
            ]
          },
          "metadata": {},
          "execution_count": 54
        },
        {
          "output_type": "display_data",
          "data": {
            "text/plain": [
              "<Figure size 360x360 with 1 Axes>"
            ],
            "image/png": "[encoded data removed]"
          },
          "metadata": {
            "needs_background": "light"
          }
        }
      ]
    },
    {
      "cell_type": "code",
      "source": [
        "# STEP 2.1.: Comparing the variances of the independent samples\n",
        "scipy.stats.levene(boston_df[boston_df['CHAS'] == 0]['MEDV'], boston_df[boston_df['CHAS'] == 1]['MEDV'], center = 'mean')"
      ],
      "metadata": {
        "colab": {
          "base_uri": "https://localhost:8080/"
        },
        "id": "5BHOFylO_7OE",
        "outputId": "22a9de75-d92f-4728-d45d-41925e5af6f7"
      },
      "execution_count": null,
      "outputs": [
        {
          "output_type": "execute_result",
          "data": {
            "text/plain": [
              "LeveneResult(statistic=8.75190489604598, pvalue=0.003238119367639829)"
            ]
          },
          "metadata": {},
          "execution_count": 55
        }
      ]
    },
    {
      "cell_type": "code",
      "source": [
        "# STEP 2.2.: T-test\n",
        "scipy.stats.ttest_ind(boston_df[boston_df['CHAS'] == 0]['MEDV'], boston_df[boston_df['CHAS'] == 1]['MEDV'], equal_var=False)"
      ],
      "metadata": {
        "colab": {
          "base_uri": "https://localhost:8080/"
        },
        "id": "_7ZXqBLP9pJS",
        "outputId": "e2393a3f-4252-4935-993d-b820243d1ec3"
      },
      "execution_count": null,
      "outputs": [
        {
          "output_type": "execute_result",
          "data": {
            "text/plain": [
              "Ttest_indResult(statistic=-3.113291312794837, pvalue=0.003567170098137517)"
            ]
          },
          "metadata": {},
          "execution_count": 56
        }
      ]
    },
    {
      "cell_type": "markdown",
      "source": [
        "### Conclusion to Question 1: \n",
        "\n",
        "Observing the box plot we can see that the mean of the median value of houses bounded to the Charles river is higher than the mean of the median values of the houses not bonded to the Charles river. The question of \"Is the difference between the two means statistically significant?\" arrises. We can answer this question either performing a t-test of two independent samples.\n",
        "\n",
        "We obtain p-values of `0.0036`, which is less then 0.05, meaning there is sufficient evidence to reject the null hypothesis that says that the two means are the same, therefore there is significant difference between the means of each group. \n",
        "\n",
        "The answer is yes, there is a significant difference in the median values of houses bounded by the Charles river or not."
      ],
      "metadata": {
        "id": "1A5cDU9z_CJC"
      }
    },
    {
      "cell_type": "markdown",
      "source": [
        "## Question 2: Is there a difference in median values of houses of each proportion of owner-occupied units built before 1940?\n",
        "\n",
        "Solution: The discretization of variable \"proportion of owner-occupied units built before 1940\" is necessary. We divide it in three groups:\n",
        "- 35 years and younger\n",
        "- between 35 and 70 years old \n",
        "- 70 years or older\n",
        "\n",
        "We then observe the means of the median values of each group with box-plot visualization and performing an ANOVA statistical test to determine wether the means are the same or there is a significant difference in one of the means. We will also use linear regresion function as an alternative to ANOVA test.\n",
        "\n",
        "The steps are the following:\n",
        "1. Discretization of the variable `AGE`\n",
        "2. Visualization of the three groups with box-plot\n",
        "3. ANOVA test: H0: mean_1 = mean_2 = mean_3 and Ha:one of the means is statistically significantly different\n",
        "4. Linear regression as ANOVA alternative"
      ],
      "metadata": {
        "id": "TIwhCNm2lm5M"
      }
    },
    {
      "cell_type": "code",
      "source": [
        "# STEP 1: Discretization of AGE by adding another column AGE_class to boston_df\n",
        "boston_df.loc[boston_df['AGE'] <= 35, 'AGE_class'] = '35_or_younger'\n",
        "boston_df.loc[(boston_df['AGE'] > 35) & (boston_df['AGE'] < 70), 'AGE_class'] = 'between_35_and_70'\n",
        "boston_df.loc[boston_df['AGE'] >= 70, 'AGE_class'] = '70_or_older'"
      ],
      "metadata": {
        "id": "O9Pp9knhlwhu"
      },
      "execution_count": null,
      "outputs": []
    },
    {
      "cell_type": "code",
      "source": [
        "# STEP 2: Boxplot\n",
        "sns.boxplot(x='AGE_class', y='MEDV', data=boston_df).set(title=\"Box Plots of AGE groups observing MEDV variable\")"
      ],
      "metadata": {
        "colab": {
          "base_uri": "https://localhost:8080/",
          "height": 314
        },
        "id": "KEjxyUuxpMhW",
        "outputId": "424efd07-9f09-4c39-c915-8c6f124455ea"
      },
      "execution_count": null,
      "outputs": [
        {
          "output_type": "execute_result",
          "data": {
            "text/plain": [
              "[Text(0.5, 1.0, 'Box Plots of AGE groups observing MEDV variable')]"
            ]
          },
          "metadata": {},
          "execution_count": 15
        },
        {
          "output_type": "display_data",
          "data": {
            "text/plain": [
              "<Figure size 432x288 with 1 Axes>"
            ],
            "image/png": "[encoded data removed]"
          },
          "metadata": {
            "needs_background": "light"
          }
        }
      ]
    },
    {
      "cell_type": "code",
      "source": [
        "# STEP 3: ANOVA test\n",
        "group1 = boston_df[boston_df['AGE_class'] == '35_or_younger']['MEDV']\n",
        "group2 = boston_df[boston_df['AGE_class'] == 'between_35_and_70']['MEDV']\n",
        "group3 = boston_df[boston_df['AGE_class'] == '70_or_older']['MEDV']\n",
        "\n",
        "f_statistics, p_value = scipy.stats.f_oneway(group1, group2, group3)\n",
        "print(f_statistics, p_value)"
      ],
      "metadata": {
        "colab": {
          "base_uri": "https://localhost:8080/"
        },
        "id": "063R_Exkp5d8",
        "outputId": "a355a50c-3cfb-4d87-e707-bcb3984617d3"
      },
      "execution_count": null,
      "outputs": [
        {
          "output_type": "stream",
          "name": "stdout",
          "text": [
            "36.40764999196599 1.7105011022702984e-15\n"
          ]
        }
      ]
    },
    {
      "cell_type": "code",
      "source": [
        "# STEP 4: Linear function as alternative to ANOVA\n",
        "X = pd.get_dummies(boston_df[['AGE_class']])\n",
        "y = boston_df['MEDV']\n",
        "X = sm.add_constant(X)\n",
        "\n",
        "model = sm.OLS(y, X).fit()\n",
        "predictions = model.predict(X)\n",
        "model.summary()"
      ],
      "metadata": {
        "colab": {
          "base_uri": "https://localhost:8080/",
          "height": 575
        },
        "id": "uIur-i8_q48D",
        "outputId": "727102c4-4e38-4484-b0bf-16e007a2d40b"
      },
      "execution_count": null,
      "outputs": [
        {
          "output_type": "stream",
          "name": "stderr",
          "text": [
            "/usr/local/lib/python3.7/dist-packages/statsmodels/tsa/tsatools.py:142: FutureWarning: In a future version of pandas all arguments of concat except for the argument 'objs' will be keyword-only\n",
            "  x = pd.concat(x[::order], 1)\n"
          ]
        },
        {
          "output_type": "execute_result",
          "data": {
            "text/plain": [
              "<class 'statsmodels.iolib.summary.Summary'>\n",
              "\"\"\"\n",
              "                            OLS Regression Results                            \n",
              "==============================================================================\n",
              "Dep. Variable:                   MEDV   R-squared:                       0.126\n",
              "Model:                            OLS   Adj. R-squared:                  0.123\n",
              "Method:                 Least Squares   F-statistic:                     36.41\n",
              "Date:                Wed, 30 Nov 2022   Prob (F-statistic):           1.71e-15\n",
              "Time:                        08:37:08   Log-Likelihood:                -1806.0\n",
              "No. Observations:                 506   AIC:                             3618.\n",
              "Df Residuals:                     503   BIC:                             3631.\n",
              "Df Model:                           2                                         \n",
              "Covariance Type:            nonrobust                                         \n",
              "===============================================================================================\n",
              "                                  coef    std err          t      P>|t|      [0.025      0.975]\n",
              "-----------------------------------------------------------------------------------------------\n",
              "const                          18.1292      0.321     56.399      0.000      17.498      18.761\n",
              "AGE_class_35_or_younger         9.6466      0.715     13.496      0.000       8.242      11.051\n",
              "AGE_class_70_or_older           1.6642      0.482      3.451      0.001       0.717       2.612\n",
              "AGE_class_between_35_and_70     6.8184      0.627     10.875      0.000       5.587       8.050\n",
              "==============================================================================\n",
              "Omnibus:                      158.454   Durbin-Watson:                   0.629\n",
              "Prob(Omnibus):                  0.000   Jarque-Bera (JB):              393.356\n",
              "Skew:                           1.592   Prob(JB):                     3.84e-86\n",
              "Kurtosis:                       5.919   Cond. No.                     1.59e+15\n",
              "==============================================================================\n",
              "\n",
              "Notes:\n",
              "[1] Standard Errors assume that the covariance matrix of the errors is correctly specified.\n",
              "[2] The smallest eigenvalue is 2.9e-28. This might indicate that there are\n",
              "strong multicollinearity problems or that the design matrix is singular.\n",
              "\"\"\""
            ],
            "text/html": [
              "<table class=\"simpletable\">\n",
              "<caption>OLS Regression Results</caption>\n",
              "<tr>\n",
              "  <th>Dep. Variable:</th>          <td>MEDV</td>       <th>  R-squared:         </th> <td>   0.126</td>\n",
              "</tr>\n",
              "<tr>\n",
              "  <th>Model:</th>                   <td>OLS</td>       <th>  Adj. R-squared:    </th> <td>   0.123</td>\n",
              "</tr>\n",
              "<tr>\n",
              "  <th>Method:</th>             <td>Least Squares</td>  <th>  F-statistic:       </th> <td>   36.41</td>\n",
              "</tr>\n",
              "<tr>\n",
              "  <th>Date:</th>             <td>Wed, 30 Nov 2022</td> <th>  Prob (F-statistic):</th> <td>1.71e-15</td>\n",
              "</tr>\n",
              "<tr>\n",
              "  <th>Time:</th>                 <td>08:37:08</td>     <th>  Log-Likelihood:    </th> <td> -1806.0</td>\n",
              "</tr>\n",
              "<tr>\n",
              "  <th>No. Observations:</th>      <td>   506</td>      <th>  AIC:               </th> <td>   3618.</td>\n",
              "</tr>\n",
              "<tr>\n",
              "  <th>Df Residuals:</th>          <td>   503</td>      <th>  BIC:               </th> <td>   3631.</td>\n",
              "</tr>\n",
              "<tr>\n",
              "  <th>Df Model:</th>              <td>     2</td>      <th>                     </th>     <td> </td>   \n",
              "</tr>\n",
              "<tr>\n",
              "  <th>Covariance Type:</th>      <td>nonrobust</td>    <th>                     </th>     <td> </td>   \n",
              "</tr>\n",
              "</table>\n",
              "<table class=\"simpletable\">\n",
              "<tr>\n",
              "               <td></td>                  <th>coef</th>     <th>std err</th>      <th>t</th>      <th>P>|t|</th>  <th>[0.025</th>    <th>0.975]</th>  \n",
              "</tr>\n",
              "<tr>\n",
              "  <th>const</th>                       <td>   18.1292</td> <td>    0.321</td> <td>   56.399</td> <td> 0.000</td> <td>   17.498</td> <td>   18.761</td>\n",
              "</tr>\n",
              "<tr>\n",
              "  <th>AGE_class_35_or_younger</th>     <td>    9.6466</td> <td>    0.715</td> <td>   13.496</td> <td> 0.000</td> <td>    8.242</td> <td>   11.051</td>\n",
              "</tr>\n",
              "<tr>\n",
              "  <th>AGE_class_70_or_older</th>       <td>    1.6642</td> <td>    0.482</td> <td>    3.451</td> <td> 0.001</td> <td>    0.717</td> <td>    2.612</td>\n",
              "</tr>\n",
              "<tr>\n",
              "  <th>AGE_class_between_35_and_70</th> <td>    6.8184</td> <td>    0.627</td> <td>   10.875</td> <td> 0.000</td> <td>    5.587</td> <td>    8.050</td>\n",
              "</tr>\n",
              "</table>\n",
              "<table class=\"simpletable\">\n",
              "<tr>\n",
              "  <th>Omnibus:</th>       <td>158.454</td> <th>  Durbin-Watson:     </th> <td>   0.629</td>\n",
              "</tr>\n",
              "<tr>\n",
              "  <th>Prob(Omnibus):</th> <td> 0.000</td>  <th>  Jarque-Bera (JB):  </th> <td> 393.356</td>\n",
              "</tr>\n",
              "<tr>\n",
              "  <th>Skew:</th>          <td> 1.592</td>  <th>  Prob(JB):          </th> <td>3.84e-86</td>\n",
              "</tr>\n",
              "<tr>\n",
              "  <th>Kurtosis:</th>      <td> 5.919</td>  <th>  Cond. No.          </th> <td>1.59e+15</td>\n",
              "</tr>\n",
              "</table><br/><br/>Notes:<br/>[1] Standard Errors assume that the covariance matrix of the errors is correctly specified.<br/>[2] The smallest eigenvalue is 2.9e-28. This might indicate that there are<br/>strong multicollinearity problems or that the design matrix is singular."
            ]
          },
          "metadata": {},
          "execution_count": 18
        }
      ]
    },
    {
      "cell_type": "markdown",
      "source": [
        "### Conculsion to Question 2: \n",
        "\n",
        "By plotting the box-plots for each of the three groups, we can notice that the group of 35 years or younger has the highest mean and the group of 70 years or older has the lowest mean. But are these differences statistically significant?\n",
        "\n",
        "Performing ANOVA test or using a OLS model we get the same p-value for the F-statistics with the value of `1.71e-15`, which is smaller than 0.05. This means that there is a sufficiant evidence to reject the null hypothesis, which says that all three means are the same.\n",
        "\n",
        "The answer is yes, there is a statistically significant difference between median values of houses of each proportion of owner-occupied units built before 1940."
      ],
      "metadata": {
        "id": "4ufOSIb1r2ru"
      }
    },
    {
      "cell_type": "markdown",
      "source": [
        "## Question 3: Can we conclude that there is no relationship between Nitric oxide concentrations and the proportion of non-retail business acres per town?\n",
        "\n",
        "Solution: We will observe the relationship between the two variables (`NOX` and `INDUS`) by visualizating the data on scatterplot, performing a Pearson's correlation test and using a linear regression model as an alternative to Pearson's correlation test.\n",
        "\n",
        "Steps:\n",
        "1. Plot the scatterplot\n",
        "2. Perform a Pearson's correlation test\n",
        "3. Use OLS as alternative"
      ],
      "metadata": {
        "id": "1exNYaVAs-xu"
      }
    },
    {
      "cell_type": "code",
      "source": [
        "# STEP 1: Scatterplot\n",
        "# sns.scatterplot(x='INDUS', y='NOX', data=boston_df)\n",
        "sns.scatterplot(x='NOX', y='INDUS', data=boston_df)"
      ],
      "metadata": {
        "colab": {
          "base_uri": "https://localhost:8080/",
          "height": 296
        },
        "id": "OstoeoVItB67",
        "outputId": "d7a46691-5697-4a44-f18a-4630f1f7d82b"
      },
      "execution_count": null,
      "outputs": [
        {
          "output_type": "execute_result",
          "data": {
            "text/plain": [
              "<matplotlib.axes._subplots.AxesSubplot at 0x7ff134a6f150>"
            ]
          },
          "metadata": {},
          "execution_count": 20
        },
        {
          "output_type": "display_data",
          "data": {
            "text/plain": [
              "<Figure size 432x288 with 1 Axes>"
            ],
            "image/png": "[encoded data removed]"
          },
          "metadata": {
            "needs_background": "light"
          }
        }
      ]
    },
    {
      "cell_type": "code",
      "source": [
        "# STEP 2: Pearson's correlation test\n",
        "scipy.stats.pearsonr(boston_df['NOX'], boston_df['INDUS'])"
      ],
      "metadata": {
        "colab": {
          "base_uri": "https://localhost:8080/"
        },
        "id": "k4Sz6pkTwFFP",
        "outputId": "8f8c2b28-41c6-4e4f-e1d4-ecb44cec55e0"
      },
      "execution_count": null,
      "outputs": [
        {
          "output_type": "execute_result",
          "data": {
            "text/plain": [
              "(0.7636514469209151, 7.913361061238693e-98)"
            ]
          },
          "metadata": {},
          "execution_count": 21
        }
      ]
    },
    {
      "cell_type": "code",
      "source": [
        "# STEP 3: OLS\n",
        "y = boston_df['INDUS']\n",
        "X = boston_df['NOX']\n",
        "X = sm.add_constant(X)\n",
        "\n",
        "model = sm.OLS(y,X).fit()\n",
        "predictions = model.predict(X)\n",
        "\n",
        "model.summary()"
      ],
      "metadata": {
        "colab": {
          "base_uri": "https://localhost:8080/",
          "height": 498
        },
        "id": "eieDY-9_wje_",
        "outputId": "af84d63a-fc4c-4739-f580-3289f39f7476"
      },
      "execution_count": null,
      "outputs": [
        {
          "output_type": "stream",
          "name": "stderr",
          "text": [
            "/usr/local/lib/python3.7/dist-packages/statsmodels/tsa/tsatools.py:142: FutureWarning: In a future version of pandas all arguments of concat except for the argument 'objs' will be keyword-only\n",
            "  x = pd.concat(x[::order], 1)\n"
          ]
        },
        {
          "output_type": "execute_result",
          "data": {
            "text/plain": [
              "<class 'statsmodels.iolib.summary.Summary'>\n",
              "\"\"\"\n",
              "                            OLS Regression Results                            \n",
              "==============================================================================\n",
              "Dep. Variable:                  INDUS   R-squared:                       0.583\n",
              "Model:                            OLS   Adj. R-squared:                  0.582\n",
              "Method:                 Least Squares   F-statistic:                     705.1\n",
              "Date:                Wed, 30 Nov 2022   Prob (F-statistic):           7.91e-98\n",
              "Time:                        08:59:43   Log-Likelihood:                -1470.5\n",
              "No. Observations:                 506   AIC:                             2945.\n",
              "Df Residuals:                     504   BIC:                             2954.\n",
              "Df Model:                           1                                         \n",
              "Covariance Type:            nonrobust                                         \n",
              "==============================================================================\n",
              "                 coef    std err          t      P>|t|      [0.025      0.975]\n",
              "------------------------------------------------------------------------------\n",
              "const        -13.9414      0.965    -14.450      0.000     -15.837     -12.046\n",
              "NOX           45.2108      1.703     26.554      0.000      41.866      48.556\n",
              "==============================================================================\n",
              "Omnibus:                       46.050   Durbin-Watson:                   0.272\n",
              "Prob(Omnibus):                  0.000   Jarque-Bera (JB):               67.622\n",
              "Skew:                           0.649   Prob(JB):                     2.07e-15\n",
              "Kurtosis:                       4.233   Cond. No.                         11.3\n",
              "==============================================================================\n",
              "\n",
              "Notes:\n",
              "[1] Standard Errors assume that the covariance matrix of the errors is correctly specified.\n",
              "\"\"\""
            ],
            "text/html": [
              "<table class=\"simpletable\">\n",
              "<caption>OLS Regression Results</caption>\n",
              "<tr>\n",
              "  <th>Dep. Variable:</th>          <td>INDUS</td>      <th>  R-squared:         </th> <td>   0.583</td>\n",
              "</tr>\n",
              "<tr>\n",
              "  <th>Model:</th>                   <td>OLS</td>       <th>  Adj. R-squared:    </th> <td>   0.582</td>\n",
              "</tr>\n",
              "<tr>\n",
              "  <th>Method:</th>             <td>Least Squares</td>  <th>  F-statistic:       </th> <td>   705.1</td>\n",
              "</tr>\n",
              "<tr>\n",
              "  <th>Date:</th>             <td>Wed, 30 Nov 2022</td> <th>  Prob (F-statistic):</th> <td>7.91e-98</td>\n",
              "</tr>\n",
              "<tr>\n",
              "  <th>Time:</th>                 <td>08:59:43</td>     <th>  Log-Likelihood:    </th> <td> -1470.5</td>\n",
              "</tr>\n",
              "<tr>\n",
              "  <th>No. Observations:</th>      <td>   506</td>      <th>  AIC:               </th> <td>   2945.</td>\n",
              "</tr>\n",
              "<tr>\n",
              "  <th>Df Residuals:</th>          <td>   504</td>      <th>  BIC:               </th> <td>   2954.</td>\n",
              "</tr>\n",
              "<tr>\n",
              "  <th>Df Model:</th>              <td>     1</td>      <th>                     </th>     <td> </td>   \n",
              "</tr>\n",
              "<tr>\n",
              "  <th>Covariance Type:</th>      <td>nonrobust</td>    <th>                     </th>     <td> </td>   \n",
              "</tr>\n",
              "</table>\n",
              "<table class=\"simpletable\">\n",
              "<tr>\n",
              "    <td></td>       <th>coef</th>     <th>std err</th>      <th>t</th>      <th>P>|t|</th>  <th>[0.025</th>    <th>0.975]</th>  \n",
              "</tr>\n",
              "<tr>\n",
              "  <th>const</th> <td>  -13.9414</td> <td>    0.965</td> <td>  -14.450</td> <td> 0.000</td> <td>  -15.837</td> <td>  -12.046</td>\n",
              "</tr>\n",
              "<tr>\n",
              "  <th>NOX</th>   <td>   45.2108</td> <td>    1.703</td> <td>   26.554</td> <td> 0.000</td> <td>   41.866</td> <td>   48.556</td>\n",
              "</tr>\n",
              "</table>\n",
              "<table class=\"simpletable\">\n",
              "<tr>\n",
              "  <th>Omnibus:</th>       <td>46.050</td> <th>  Durbin-Watson:     </th> <td>   0.272</td>\n",
              "</tr>\n",
              "<tr>\n",
              "  <th>Prob(Omnibus):</th> <td> 0.000</td> <th>  Jarque-Bera (JB):  </th> <td>  67.622</td>\n",
              "</tr>\n",
              "<tr>\n",
              "  <th>Skew:</th>          <td> 0.649</td> <th>  Prob(JB):          </th> <td>2.07e-15</td>\n",
              "</tr>\n",
              "<tr>\n",
              "  <th>Kurtosis:</th>      <td> 4.233</td> <th>  Cond. No.          </th> <td>    11.3</td>\n",
              "</tr>\n",
              "</table><br/><br/>Notes:<br/>[1] Standard Errors assume that the covariance matrix of the errors is correctly specified."
            ]
          },
          "metadata": {},
          "execution_count": 22
        }
      ]
    },
    {
      "cell_type": "markdown",
      "source": [
        "### Conclusion to Question 3:\n",
        "\n",
        "By plotting the two variables using scatterplot we can notice a positive relationship between the two variables. We perform a Pearson's correlation test where the first value is the Pearson's correlation coeficient (`0.764`) and the second is the p-value. As p-value (`7.91e-98`) is smaller than 0.05 we can reject the null hypothesis that says there is no association between the two variables. Using OLS function we get the same p-value (`Prob(F-statistics)`) and the same correlation coefficient (`sqrt(R-squared)`). \n",
        "\n",
        "The answer is no, we can conclude there is positive relationship between Nitric oxide concentrations and the proportion of non-retail business acres per town."
      ],
      "metadata": {
        "id": "67y2xy5oxPnG"
      }
    },
    {
      "cell_type": "markdown",
      "source": [
        "## Question 4: What is the impact of an additional weighted distance to the five Boston employment centres on the median value of owner-occupied homes?\n",
        "\n",
        "Solution: We are going to plot the two variables (`MEDV` and `DIS`) using scatterplot to see if there is some relationship between the two variables. We are going to reject/confirm the association of the two variables using correlation test. Finally we are going to use a linear regression model to see the coeficient between the two variables.\n",
        "\n",
        "Steps:\n",
        "1. Scatterplot\n",
        "2. Pearson's correlation test\n",
        "3. Linear Regression"
      ],
      "metadata": {
        "id": "UA28m82jzTJI"
      }
    },
    {
      "cell_type": "code",
      "source": [
        "# STEP 1: Scatterplot\n",
        "sns.scatterplot(x='DIS', y='MEDV', data=boston_df)"
      ],
      "metadata": {
        "colab": {
          "base_uri": "https://localhost:8080/",
          "height": 296
        },
        "id": "D1CtgpmOxGKm",
        "outputId": "5ae04767-1ba5-4644-cbff-dcbef0fd8041"
      },
      "execution_count": null,
      "outputs": [
        {
          "output_type": "execute_result",
          "data": {
            "text/plain": [
              "<matplotlib.axes._subplots.AxesSubplot at 0x7ff134857e50>"
            ]
          },
          "metadata": {},
          "execution_count": 33
        },
        {
          "output_type": "display_data",
          "data": {
            "text/plain": [
              "<Figure size 432x288 with 1 Axes>"
            ],
            "image/png": "[encoded data removed]"
          },
          "metadata": {
            "needs_background": "light"
          }
        }
      ]
    },
    {
      "cell_type": "code",
      "source": [
        "# STEP 2: Pearsons's correlation test\n",
        "scipy.stats.pearsonr(boston_df['DIS'], boston_df['MEDV'])"
      ],
      "metadata": {
        "colab": {
          "base_uri": "https://localhost:8080/"
        },
        "id": "M5Q87Mri1zih",
        "outputId": "a261540a-15ed-4cf6-d0fe-93847867595e"
      },
      "execution_count": null,
      "outputs": [
        {
          "output_type": "execute_result",
          "data": {
            "text/plain": [
              "(0.2499287340859039, 1.2066117273368017e-08)"
            ]
          },
          "metadata": {},
          "execution_count": 57
        }
      ]
    },
    {
      "cell_type": "code",
      "source": [
        "#STEP 3: OLS\n",
        "y = boston_df['MEDV']\n",
        "X = boston_df['DIS']\n",
        "X = sm.add_constant(X)\n",
        "\n",
        "model = sm.OLS(y, X).fit()\n",
        "predictions = model.predict(X)\n",
        "\n",
        "model.summary()"
      ],
      "metadata": {
        "colab": {
          "base_uri": "https://localhost:8080/",
          "height": 498
        },
        "id": "RgjD1uOv2Z0e",
        "outputId": "204f3f4b-621b-4c57-bed5-306ff97286c6"
      },
      "execution_count": null,
      "outputs": [
        {
          "output_type": "stream",
          "name": "stderr",
          "text": [
            "/usr/local/lib/python3.7/dist-packages/statsmodels/tsa/tsatools.py:142: FutureWarning: In a future version of pandas all arguments of concat except for the argument 'objs' will be keyword-only\n",
            "  x = pd.concat(x[::order], 1)\n"
          ]
        },
        {
          "output_type": "execute_result",
          "data": {
            "text/plain": [
              "<class 'statsmodels.iolib.summary.Summary'>\n",
              "\"\"\"\n",
              "                            OLS Regression Results                            \n",
              "==============================================================================\n",
              "Dep. Variable:                   MEDV   R-squared:                       0.062\n",
              "Model:                            OLS   Adj. R-squared:                  0.061\n",
              "Method:                 Least Squares   F-statistic:                     33.58\n",
              "Date:                Wed, 30 Nov 2022   Prob (F-statistic):           1.21e-08\n",
              "Time:                        09:39:51   Log-Likelihood:                -1823.9\n",
              "No. Observations:                 506   AIC:                             3652.\n",
              "Df Residuals:                     504   BIC:                             3660.\n",
              "Df Model:                           1                                         \n",
              "Covariance Type:            nonrobust                                         \n",
              "==============================================================================\n",
              "                 coef    std err          t      P>|t|      [0.025      0.975]\n",
              "------------------------------------------------------------------------------\n",
              "const         18.3901      0.817     22.499      0.000      16.784      19.996\n",
              "DIS            1.0916      0.188      5.795      0.000       0.722       1.462\n",
              "==============================================================================\n",
              "Omnibus:                      139.779   Durbin-Watson:                   0.570\n",
              "Prob(Omnibus):                  0.000   Jarque-Bera (JB):              305.104\n",
              "Skew:                           1.466   Prob(JB):                     5.59e-67\n",
              "Kurtosis:                       5.424   Cond. No.                         9.32\n",
              "==============================================================================\n",
              "\n",
              "Notes:\n",
              "[1] Standard Errors assume that the covariance matrix of the errors is correctly specified.\n",
              "\"\"\""
            ],
            "text/html": [
              "<table class=\"simpletable\">\n",
              "<caption>OLS Regression Results</caption>\n",
              "<tr>\n",
              "  <th>Dep. Variable:</th>          <td>MEDV</td>       <th>  R-squared:         </th> <td>   0.062</td>\n",
              "</tr>\n",
              "<tr>\n",
              "  <th>Model:</th>                   <td>OLS</td>       <th>  Adj. R-squared:    </th> <td>   0.061</td>\n",
              "</tr>\n",
              "<tr>\n",
              "  <th>Method:</th>             <td>Least Squares</td>  <th>  F-statistic:       </th> <td>   33.58</td>\n",
              "</tr>\n",
              "<tr>\n",
              "  <th>Date:</th>             <td>Wed, 30 Nov 2022</td> <th>  Prob (F-statistic):</th> <td>1.21e-08</td>\n",
              "</tr>\n",
              "<tr>\n",
              "  <th>Time:</th>                 <td>09:39:51</td>     <th>  Log-Likelihood:    </th> <td> -1823.9</td>\n",
              "</tr>\n",
              "<tr>\n",
              "  <th>No. Observations:</th>      <td>   506</td>      <th>  AIC:               </th> <td>   3652.</td>\n",
              "</tr>\n",
              "<tr>\n",
              "  <th>Df Residuals:</th>          <td>   504</td>      <th>  BIC:               </th> <td>   3660.</td>\n",
              "</tr>\n",
              "<tr>\n",
              "  <th>Df Model:</th>              <td>     1</td>      <th>                     </th>     <td> </td>   \n",
              "</tr>\n",
              "<tr>\n",
              "  <th>Covariance Type:</th>      <td>nonrobust</td>    <th>                     </th>     <td> </td>   \n",
              "</tr>\n",
              "</table>\n",
              "<table class=\"simpletable\">\n",
              "<tr>\n",
              "    <td></td>       <th>coef</th>     <th>std err</th>      <th>t</th>      <th>P>|t|</th>  <th>[0.025</th>    <th>0.975]</th>  \n",
              "</tr>\n",
              "<tr>\n",
              "  <th>const</th> <td>   18.3901</td> <td>    0.817</td> <td>   22.499</td> <td> 0.000</td> <td>   16.784</td> <td>   19.996</td>\n",
              "</tr>\n",
              "<tr>\n",
              "  <th>DIS</th>   <td>    1.0916</td> <td>    0.188</td> <td>    5.795</td> <td> 0.000</td> <td>    0.722</td> <td>    1.462</td>\n",
              "</tr>\n",
              "</table>\n",
              "<table class=\"simpletable\">\n",
              "<tr>\n",
              "  <th>Omnibus:</th>       <td>139.779</td> <th>  Durbin-Watson:     </th> <td>   0.570</td>\n",
              "</tr>\n",
              "<tr>\n",
              "  <th>Prob(Omnibus):</th> <td> 0.000</td>  <th>  Jarque-Bera (JB):  </th> <td> 305.104</td>\n",
              "</tr>\n",
              "<tr>\n",
              "  <th>Skew:</th>          <td> 1.466</td>  <th>  Prob(JB):          </th> <td>5.59e-67</td>\n",
              "</tr>\n",
              "<tr>\n",
              "  <th>Kurtosis:</th>      <td> 5.424</td>  <th>  Cond. No.          </th> <td>    9.32</td>\n",
              "</tr>\n",
              "</table><br/><br/>Notes:<br/>[1] Standard Errors assume that the covariance matrix of the errors is correctly specified."
            ]
          },
          "metadata": {},
          "execution_count": 35
        }
      ]
    },
    {
      "cell_type": "markdown",
      "source": [
        "### Conclusion to question 4:\n",
        "\n",
        "Observing the low value of R-squared `0.062` we see that an insignificant amount of variance of `MEDV` can be explained by the `DIS`. Because we already noticed in the scatterplot and confirmed it by Pearson's correlation test the two variables do not have linear relationship, meaning the values from the coefficient table can not be interpreted meaningfully. In conclusion, an additional weighted distance to the five Boston employment centres do not have significant impact on the median value of owner-occupied homes."
      ],
      "metadata": {
        "id": "48jlkuvY3C0s"
      }
    }
  ]
}